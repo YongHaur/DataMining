{
 "cells": [
  {
   "cell_type": "markdown",
   "metadata": {},
   "source": [
    "# Movie Classification\n",
    "\n",
    "- Classification of a movie into 2 classes (Action or Romance) given 2 attributes (number of kisses and number of kicks)\n",
    "- 6 movies are use to build the model\n",
    "- K nearest neighbours classifier is used \n",
    "- Please refer to the lecture notes on the details\n",
    "##### YH Tay"
   ]
  },
  {
   "cell_type": "code",
   "execution_count": 1,
   "metadata": {
    "collapsed": true
   },
   "outputs": [],
   "source": [
    "%matplotlib inline\n",
    "import numpy as np\n",
    "import matplotlib.pyplot as plt\n",
    "\n",
    "# 6 movies, each with 2 attributes: Number of kicks, and Number of kisses\n",
    "X = np.array([\n",
    "        [  3, 104],\n",
    "        [  2, 100],\n",
    "        [  1,  81],\n",
    "        [101,  10],\n",
    "        [ 99,   5],\n",
    "        [ 98,   2]\n",
    "        ])\n",
    "# expected outputs (also called target or desired output) of the 6 movies, \n",
    "# 0 for romance, and 1 for action \n",
    "t = np.array([0,0,0,1,1,1])\n",
    "\n",
    "# descriptive name for the two classes\n",
    "t_names = np.array(['Romance', 'Action'])"
   ]
  },
  {
   "cell_type": "code",
   "execution_count": 2,
   "metadata": {
    "collapsed": false
   },
   "outputs": [
    {
     "data": {
      "text/plain": [
       "<matplotlib.text.Text at 0x83cf244e10>"
      ]
     },
     "execution_count": 2,
     "metadata": {},
     "output_type": "execute_result"
    },
    {
     "data": {
      "image/png": "[encoded data removed]",
      "text/plain": [
       "<matplotlib.figure.Figure at 0x83cf239128>"
      ]
     },
     "metadata": {},
     "output_type": "display_data"
    }
   ],
   "source": [
    "# Visualize the datapoints in a 2D scatter plot\n",
    "\n",
    "plt.scatter(X[:,0][t==0], X[:,1][t==0], color='r', marker='x' )\n",
    "plt.scatter(X[:,0][t==1], X[:,1][t==1], color='b', marker='o' )\n",
    "\n",
    "plt.ylabel('# kisses')\n",
    "plt.xlabel('# kicks')"
   ]
  },
  {
   "cell_type": "code",
   "execution_count": 3,
   "metadata": {
    "collapsed": false
   },
   "outputs": [
    {
     "data": {
      "text/plain": [
       "KNeighborsClassifier(algorithm='auto', leaf_size=30, metric='minkowski',\n",
       "           metric_params=None, n_jobs=1, n_neighbors=3, p=2,\n",
       "           weights='uniform')"
      ]
     },
     "execution_count": 3,
     "metadata": {},
     "output_type": "execute_result"
    }
   ],
   "source": [
    "# Build a K-Nearest Neighbor Classifier given the 6 movies\n",
    "\n",
    "# import the module of KNN Classifier\n",
    "from sklearn.neighbors import KNeighborsClassifier\n",
    "\n",
    "# construct a KNN Classifer, named neigh, with K = 3\n",
    "neigh = KNeighborsClassifier(n_neighbors=3)\n",
    "\n",
    "# Train the classifer, given the classifier an array of \n",
    "# inputs (X) and expected output (t)\n",
    "neigh.fit(X, t)"
   ]
  },
  {
   "cell_type": "code",
   "execution_count": 4,
   "metadata": {
    "collapsed": false
   },
   "outputs": [],
   "source": [
    "# Now, you can start to use the trained KNN classifier \n",
    "# to do the classification\n",
    "\n",
    "# Test it with 2 new (unseen) movies, again, extract two attributes \n",
    "# from each movie, i.e. number of kicks and number of kisses\n",
    "X_test = np.array(\n",
    "    [[8,69],\n",
    "    [120,17]])\n",
    "\n",
    "y = neigh.predict(X_test)"
   ]
  },
  {
   "cell_type": "code",
   "execution_count": 5,
   "metadata": {
    "collapsed": false
   },
   "outputs": [
    {
     "name": "stdout",
     "output_type": "stream",
     "text": [
      "No 0: (#kicks, #kisses) = (  8, 69) ==> Romance\n",
      "No 1: (#kicks, #kisses) = (120, 17) ==> Action\n"
     ]
    }
   ],
   "source": [
    "for i in range(len(X_test)):\n",
    "    print(\"No %d: (#kicks, #kisses) = (%3d,%3d) ==> %s\" % \n",
    "          (i, X_test[i][0], X_test[i][1], t_names[y[i]]) )"
   ]
  },
  {
   "cell_type": "code",
   "execution_count": 6,
   "metadata": {
    "collapsed": false
   },
   "outputs": [],
   "source": [
    "# Try out more here...\n"
   ]
  }
 ],
 "metadata": {
  "kernelspec": {
   "display_name": "Python 3",
   "language": "python",
   "name": "python3"
  },
  "language_info": {
   "codemirror_mode": {
    "name": "ipython",
    "version": 3
   },
   "file_extension": ".py",
   "mimetype": "text/x-python",
   "name": "python",
   "nbconvert_exporter": "python",
   "pygments_lexer": "ipython3",
   "version": "3.5.1"
  }
 },
 "nbformat": 4,
 "nbformat_minor": 0
}
